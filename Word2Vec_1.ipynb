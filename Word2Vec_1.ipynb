{
 "cells": [
  {
   "cell_type": "code",
   "execution_count": 3,
   "metadata": {},
   "outputs": [],
   "source": [
    "import os \n",
    "import re\n",
    "import collections\n",
    "import numpy as np\n",
    "import tensorflow as tf\n",
    "import math\n",
    "\n",
    "from matplotlib import pylab\n",
    "%matplotlib inline\n",
    "\n",
    "from six.moves import range\n",
    "from six.moves.urllib.request import urlretrieve"
   ]
  },
  {
   "cell_type": "code",
   "execution_count": 5,
   "metadata": {},
   "outputs": [],
   "source": [
    "url = 'http://mattmahoney.net/dc/'\n",
    "file = 'text8.zip'\n",
    "\n",
    "def download_data(ob):\n",
    "    if not os.path.isfile(ob):\n",
    "        ob, _ = urlretrieve(url + file, file)\n",
    "        print('download successful!')\n",
    "    return(None)\n",
    "\n",
    "download_data(file)"
   ]
  },
  {
   "cell_type": "code",
   "execution_count": 6,
   "metadata": {},
   "outputs": [],
   "source": [
    "import zipfile"
   ]
  },
  {
   "cell_type": "code",
   "execution_count": 9,
   "metadata": {},
   "outputs": [
    {
     "name": "stdout",
     "output_type": "stream",
     "text": [
      "Contents Extracted\n"
     ]
    }
   ],
   "source": [
    "def create_folder(ob):\n",
    "    if not os.path.exists(ob):\n",
    "        os.makedirs(ob)\n",
    "    with zipfile.ZipFile(file) as f:\n",
    "        f.extractall(ob)\n",
    "        print('Contents Extracted')\n",
    "    return(None)\n",
    "\n",
    "dataset_directory = 'text/'\n",
    "create_folder(dataset_directory)"
   ]
  },
  {
   "cell_type": "code",
   "execution_count": 13,
   "metadata": {},
   "outputs": [],
   "source": [
    "'''Read and load contents'''\n",
    "with open(dataset_directory + 'text8') as _:\n",
    "    raw_text = _.read()\n",
    "\n",
    "def text_processing(ob):\n",
    "    ob = ob.lower()\n",
    "    ob = ob.replace('.', ' <period> ')\n",
    "    ob = ob.replace(',', ' <comma> ')\n",
    "    ob = ob.replace('\"', ' <quotation> ')\n",
    "    ob = ob.replace(';', ' <semicolon> ')\n",
    "    ob = ob.replace('!', ' <exclamation> ')\n",
    "    ob = ob.replace('?', ' <question> ')\n",
    "    ob = ob.replace('(', ' <paren_l> ')\n",
    "    ob = ob.replace(')', ' <paren_r> ')\n",
    "    ob = ob.replace('--', ' <hyphen> ')\n",
    "    ob = ob.replace(':', ' <colon> ')\n",
    "    tokens = ob.split()\n",
    "    return(tokens)\n",
    "\n",
    "tokens = text_processing(raw_text)"
   ]
  },
  {
   "cell_type": "code",
   "execution_count": 56,
   "metadata": {},
   "outputs": [
    {
     "name": "stdout",
     "output_type": "stream",
     "text": [
      "17005207\n",
      "253854\n",
      "16616688\n"
     ]
    }
   ],
   "source": [
    "'''Moving forward we will remove the words < 7 frequency and create a dictionary of words with their corresponding \n",
    "frequency in the corpus'''\n",
    "import collections\n",
    "\n",
    "def clean(tokens):\n",
    "    word_count = collections.Counter(tokens)\n",
    "    filtered_words = [word for word in tokens if word_count[word]>7]\n",
    "    print(len(tokens))\n",
    "    print(len(word_count))\n",
    "    print(len(filtered_words))\n",
    "    return(filtered_words)\n",
    "\n",
    "filtered_words = clean(tokens)"
   ]
  },
  {
   "cell_type": "code",
   "execution_count": 57,
   "metadata": {},
   "outputs": [
    {
     "name": "stdout",
     "output_type": "stream",
     "text": [
      "[nltk_data] Downloading package stopwords to\n",
      "[nltk_data]     C:\\Users\\akash.sharma\\AppData\\Roaming\\nltk_data...\n",
      "[nltk_data]   Package stopwords is already up-to-date!\n"
     ]
    }
   ],
   "source": [
    "'''Removing stop words + stemming and lemmetizing'''\n",
    "import nltk\n",
    "nltk.download('stopwords')\n",
    "from nltk.corpus import stopwords\n",
    "\n",
    "def stop_lemma(filtered_words):\n",
    "    stop_words = stopwords.words('english')\n",
    "    filtered_words_1 = [word for word in filtered_words if not word in stop_words]\n",
    "\n",
    "    from nltk.stem import WordNetLemmatizer\n",
    "    wordnet_lemmatizer = WordNetLemmatizer()\n",
    "\n",
    "    lem_words = [wordnet_lemmatizer.lemmatize(w) for w in filtered_words_1]\n",
    "    return(lem_words)\n",
    "\n",
    "lem_words = stop_lemma(filtered_words)\n"
   ]
  },
  {
   "cell_type": "code",
   "execution_count": 59,
   "metadata": {},
   "outputs": [],
   "source": [
    "'''Creating dictionary of words and their corresponding frequency(descending)'''\n",
    "def create_dict(lem_words):\n",
    "    counts = collections.Counter(lem_words)\n",
    "    counts = counts.most_common() #A counter is already a dict or a subclass of it\n",
    "    return(counts)\n",
    "\n",
    "dictionary = create_dict(lem_words)"
   ]
  },
  {
   "cell_type": "code",
   "execution_count": null,
   "metadata": {},
   "outputs": [],
   "source": []
  },
  {
   "cell_type": "code",
   "execution_count": null,
   "metadata": {},
   "outputs": [],
   "source": []
  }
 ],
 "metadata": {
  "kernelspec": {
   "display_name": "Python 3",
   "language": "python",
   "name": "python3"
  },
  "language_info": {
   "codemirror_mode": {
    "name": "ipython",
    "version": 3
   },
   "file_extension": ".py",
   "mimetype": "text/x-python",
   "name": "python",
   "nbconvert_exporter": "python",
   "pygments_lexer": "ipython3",
   "version": "3.6.6"
  }
 },
 "nbformat": 4,
 "nbformat_minor": 2
}
