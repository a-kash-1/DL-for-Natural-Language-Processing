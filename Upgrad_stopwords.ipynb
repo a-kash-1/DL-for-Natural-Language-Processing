{
  "nbformat": 4,
  "nbformat_minor": 0,
  "metadata": {
    "kernelspec": {
      "display_name": "Python 3",
      "language": "python",
      "name": "python3"
    },
    "language_info": {
      "codemirror_mode": {
        "name": "ipython",
        "version": 3
      },
      "file_extension": ".py",
      "mimetype": "text/x-python",
      "name": "python",
      "nbconvert_exporter": "python",
      "pygments_lexer": "ipython3",
      "version": "3.6.5"
    },
    "colab": {
      "name": "upgrad_stopwords.ipynb",
      "version": "0.3.2",
      "provenance": [],
      "include_colab_link": true
    }
  },
  "cells": [
    {
      "cell_type": "markdown",
      "metadata": {
        "id": "view-in-github",
        "colab_type": "text"
      },
      "source": [
        "<a href=\"https://colab.research.google.com/github/a-kash-1/DL-for-Natural-Language-Processing/blob/master/Upgrad_stopwords.ipynb\" target=\"_parent\"><img src=\"https://colab.research.google.com/assets/colab-badge.svg\" alt=\"Open In Colab\"/></a>"
      ]
    },
    {
      "cell_type": "markdown",
      "metadata": {
        "id": "Gv_KZsp7mHdY",
        "colab_type": "text"
      },
      "source": [
        "## Plotting word frequencies"
      ]
    },
    {
      "cell_type": "code",
      "metadata": {
        "id": "iPN6D2VlmHda",
        "colab_type": "code",
        "colab": {}
      },
      "source": [
        "import requests\n",
        "from nltk import FreqDist\n",
        "from nltk.corpus import stopwords\n",
        "import seaborn as sns\n",
        "%matplotlib inline"
      ],
      "execution_count": 0,
      "outputs": []
    },
    {
      "cell_type": "markdown",
      "metadata": {
        "id": "Ln9ndk_qmHde",
        "colab_type": "text"
      },
      "source": [
        "Download text of 'Alice in Wonderland' ebook from https://www.gutenberg.org/"
      ]
    },
    {
      "cell_type": "code",
      "metadata": {
        "collapsed": true,
        "id": "vVY-sqAYmHdf",
        "colab_type": "code",
        "colab": {
          "base_uri": "https://localhost:8080/",
          "height": 35
        },
        "outputId": "7d780963-5be6-43a3-fafa-05d56e6cd7f8"
      },
      "source": [
        "url = \"https://www.gutenberg.org/files/11/11-0.txt\"\n",
        "alice = requests.get(url)\n",
        "\n",
        "print(alice)"
      ],
      "execution_count": 21,
      "outputs": [
        {
          "output_type": "stream",
          "text": [
            "<Response [200]>\n"
          ],
          "name": "stdout"
        }
      ]
    },
    {
      "cell_type": "code",
      "metadata": {
        "id": "8-GgsdC6mm5x",
        "colab_type": "code",
        "colab": {
          "base_uri": "https://localhost:8080/",
          "height": 199
        },
        "outputId": "acd30ee5-849d-40a8-c31e-8f5338416f81"
      },
      "source": [
        "#words = \"Akash is testing FreqDist function a  a  a sn asn as as and a a\"\n",
        "#FreqDist(words.split())"
      ],
      "execution_count": 5,
      "outputs": [
        {
          "output_type": "execute_result",
          "data": {
            "text/plain": [
              "FreqDist({'Akash': 1,\n",
              "          'FreqDist': 1,\n",
              "          'a': 5,\n",
              "          'and': 1,\n",
              "          'as': 2,\n",
              "          'asn': 1,\n",
              "          'function': 1,\n",
              "          'is': 1,\n",
              "          'sn': 1,\n",
              "          'testing': 1})"
            ]
          },
          "metadata": {
            "tags": []
          },
          "execution_count": 5
        }
      ]
    },
    {
      "cell_type": "markdown",
      "metadata": {
        "id": "mZa_5oFBmHdk",
        "colab_type": "text"
      },
      "source": [
        "Define a function to plot word frequencies"
      ]
    },
    {
      "cell_type": "code",
      "metadata": {
        "id": "VKescGITmHdl",
        "colab_type": "code",
        "colab": {}
      },
      "source": [
        "def plot_word_frequency(words, top_n=10):\n",
        "    word_freq = FreqDist(words)\n",
        "    labels = [element[0] for element in word_freq.most_common(top_n)]\n",
        "    counts = [element[1] for element in word_freq.most_common(top_n)]\n",
        "    plot = sns.barplot(labels, counts)\n",
        "    return plot"
      ],
      "execution_count": 0,
      "outputs": []
    },
    {
      "cell_type": "markdown",
      "metadata": {
        "id": "pL8TRhbfmHdo",
        "colab_type": "text"
      },
      "source": [
        "Plot words frequencies present in the gutenberg corpus "
      ]
    },
    {
      "cell_type": "code",
      "metadata": {
        "id": "2VZmMYqXmHdp",
        "colab_type": "code",
        "colab": {
          "base_uri": "https://localhost:8080/",
          "height": 287
        },
        "outputId": "90e5475b-6207-4c65-ffbe-0cdcc0f953f0"
      },
      "source": [
        "alice_words = alice.text.split()\n",
        "plot_word_frequency(alice_words, 15)"
      ],
      "execution_count": 7,
      "outputs": [
        {
          "output_type": "execute_result",
          "data": {
            "text/plain": [
              "<matplotlib.axes._subplots.AxesSubplot at 0x7fab1025ac50>"
            ]
          },
          "metadata": {
            "tags": []
          },
          "execution_count": 7
        },
        {
          "output_type": "display_data",
          "data": {
            "image/png": "[encoded data removed]",
            "text/plain": [
              "<Figure size 432x288 with 1 Axes>"
            ]
          },
          "metadata": {
            "tags": []
          }
        }
      ]
    },
    {
      "cell_type": "markdown",
      "metadata": {
        "id": "CijyCBqamHds",
        "colab_type": "text"
      },
      "source": [
        "## Stopwords"
      ]
    },
    {
      "cell_type": "markdown",
      "metadata": {
        "id": "wLQK4llzmHdv",
        "colab_type": "text"
      },
      "source": [
        "Import stopwords from nltk"
      ]
    },
    {
      "cell_type": "code",
      "metadata": {
        "id": "20HKeNI6mHdx",
        "colab_type": "code",
        "colab": {
          "base_uri": "https://localhost:8080/",
          "height": 54
        },
        "outputId": "5745f7d2-e887-44be-ad6c-95f1cd644305"
      },
      "source": [
        "import nltk\n",
        "nltk.download('stopwords')\n",
        "from nltk.corpus import stopwords"
      ],
      "execution_count": 11,
      "outputs": [
        {
          "output_type": "stream",
          "text": [
            "[nltk_data] Downloading package stopwords to /root/nltk_data...\n",
            "[nltk_data]   Unzipping corpora/stopwords.zip.\n"
          ],
          "name": "stdout"
        }
      ]
    },
    {
      "cell_type": "markdown",
      "metadata": {
        "id": "Kgh1X7HqmHd3",
        "colab_type": "text"
      },
      "source": [
        "Look at the list of stopwords"
      ]
    },
    {
      "cell_type": "code",
      "metadata": {
        "id": "7VYG-boOmHd4",
        "colab_type": "code",
        "colab": {
          "base_uri": "https://localhost:8080/",
          "height": 55
        },
        "outputId": "7a1c85fe-15a8-4ab6-8b06-1303768b96dc"
      },
      "source": [
        "print(stopwords.words('english'))"
      ],
      "execution_count": 12,
      "outputs": [
        {
          "output_type": "stream",
          "text": [
            "['i', 'me', 'my', 'myself', 'we', 'our', 'ours', 'ourselves', 'you', \"you're\", \"you've\", \"you'll\", \"you'd\", 'your', 'yours', 'yourself', 'yourselves', 'he', 'him', 'his', 'himself', 'she', \"she's\", 'her', 'hers', 'herself', 'it', \"it's\", 'its', 'itself', 'they', 'them', 'their', 'theirs', 'themselves', 'what', 'which', 'who', 'whom', 'this', 'that', \"that'll\", 'these', 'those', 'am', 'is', 'are', 'was', 'were', 'be', 'been', 'being', 'have', 'has', 'had', 'having', 'do', 'does', 'did', 'doing', 'a', 'an', 'the', 'and', 'but', 'if', 'or', 'because', 'as', 'until', 'while', 'of', 'at', 'by', 'for', 'with', 'about', 'against', 'between', 'into', 'through', 'during', 'before', 'after', 'above', 'below', 'to', 'from', 'up', 'down', 'in', 'out', 'on', 'off', 'over', 'under', 'again', 'further', 'then', 'once', 'here', 'there', 'when', 'where', 'why', 'how', 'all', 'any', 'both', 'each', 'few', 'more', 'most', 'other', 'some', 'such', 'no', 'nor', 'not', 'only', 'own', 'same', 'so', 'than', 'too', 'very', 's', 't', 'can', 'will', 'just', 'don', \"don't\", 'should', \"should've\", 'now', 'd', 'll', 'm', 'o', 're', 've', 'y', 'ain', 'aren', \"aren't\", 'couldn', \"couldn't\", 'didn', \"didn't\", 'doesn', \"doesn't\", 'hadn', \"hadn't\", 'hasn', \"hasn't\", 'haven', \"haven't\", 'isn', \"isn't\", 'ma', 'mightn', \"mightn't\", 'mustn', \"mustn't\", 'needn', \"needn't\", 'shan', \"shan't\", 'shouldn', \"shouldn't\", 'wasn', \"wasn't\", 'weren', \"weren't\", 'won', \"won't\", 'wouldn', \"wouldn't\"]\n"
          ],
          "name": "stdout"
        }
      ]
    },
    {
      "cell_type": "markdown",
      "metadata": {
        "id": "7gjouaoVmHd8",
        "colab_type": "text"
      },
      "source": [
        "Let's remove stopwords from the following piece of text."
      ]
    },
    {
      "cell_type": "code",
      "metadata": {
        "id": "z8VjBTAdmHd_",
        "colab_type": "code",
        "colab": {}
      },
      "source": [
        "sample_text = \"the great aim of education is not knowledge but action\""
      ],
      "execution_count": 0,
      "outputs": []
    },
    {
      "cell_type": "markdown",
      "metadata": {
        "id": "pFvrc0cAmHeU",
        "colab_type": "text"
      },
      "source": [
        "Break text into words"
      ]
    },
    {
      "cell_type": "code",
      "metadata": {
        "id": "FOhFsGlWmHeU",
        "colab_type": "code",
        "colab": {
          "base_uri": "https://localhost:8080/",
          "height": 35
        },
        "outputId": "9082cdda-b7f1-432f-e304-59dfcf77f5e8"
      },
      "source": [
        "sample_words = sample_text.split()\n",
        "print(sample_words)"
      ],
      "execution_count": 14,
      "outputs": [
        {
          "output_type": "stream",
          "text": [
            "['the', 'great', 'aim', 'of', 'education', 'is', 'not', 'knowledge', 'but', 'action']\n"
          ],
          "name": "stdout"
        }
      ]
    },
    {
      "cell_type": "markdown",
      "metadata": {
        "id": "yALUNmr6mHeY",
        "colab_type": "text"
      },
      "source": [
        "Remove stopwords"
      ]
    },
    {
      "cell_type": "code",
      "metadata": {
        "id": "n2mgGEWQmHeZ",
        "colab_type": "code",
        "colab": {
          "base_uri": "https://localhost:8080/",
          "height": 35
        },
        "outputId": "ad6c28a9-cef6-4bf3-f54b-5669a8217bc1"
      },
      "source": [
        "sample_words = [word for word in sample_words if word not in stopwords.words('english')]\n",
        "print(sample_words)"
      ],
      "execution_count": 15,
      "outputs": [
        {
          "output_type": "stream",
          "text": [
            "['great', 'aim', 'education', 'knowledge', 'action']\n"
          ],
          "name": "stdout"
        }
      ]
    },
    {
      "cell_type": "markdown",
      "metadata": {
        "id": "7BhUJIIGmHed",
        "colab_type": "text"
      },
      "source": [
        "Join words back to sentence"
      ]
    },
    {
      "cell_type": "code",
      "metadata": {
        "id": "SbC-6KbBmHef",
        "colab_type": "code",
        "colab": {
          "base_uri": "https://localhost:8080/",
          "height": 35
        },
        "outputId": "540180ea-295b-404d-8f4c-e6e3292d3ee2"
      },
      "source": [
        "sample_text = \" \".join(sample_words)\n",
        "print(sample_text)"
      ],
      "execution_count": 16,
      "outputs": [
        {
          "output_type": "stream",
          "text": [
            "great aim education knowledge action\n"
          ],
          "name": "stdout"
        }
      ]
    },
    {
      "cell_type": "markdown",
      "metadata": {
        "id": "TDf9_5MGmHei",
        "colab_type": "text"
      },
      "source": [
        "## Removing stopwords in the genesis corpus"
      ]
    },
    {
      "cell_type": "code",
      "metadata": {
        "id": "qLoqP3rYmHej",
        "colab_type": "code",
        "colab": {}
      },
      "source": [
        "no_stops = [word.lower() for word in alice_words if word not in stopwords.words(\"english\")]"
      ],
      "execution_count": 0,
      "outputs": []
    },
    {
      "cell_type": "code",
      "metadata": {
        "id": "0ijD1CDWmHel",
        "colab_type": "code",
        "colab": {
          "base_uri": "https://localhost:8080/",
          "height": 287
        },
        "outputId": "0443c229-6cc6-43af-c1d3-86a1eeccb66d"
      },
      "source": [
        "plot_word_frequency(no_stops, 10)"
      ],
      "execution_count": 24,
      "outputs": [
        {
          "output_type": "execute_result",
          "data": {
            "text/plain": [
              "<matplotlib.axes._subplots.AxesSubplot at 0x7fab0d4fe6a0>"
            ]
          },
          "metadata": {
            "tags": []
          },
          "execution_count": 24
        },
        {
          "output_type": "display_data",
          "data": {
            "image/png": "[encoded data removed]",
            "text/plain": [
              "<Figure size 432x288 with 1 Axes>"
            ]
          },
          "metadata": {
            "tags": []
          }
        }
      ]
    },
    {
      "cell_type": "markdown",
      "metadata": {
        "id": "F2jIAumZmHeo",
        "colab_type": "text"
      },
      "source": [
        "Some other things that can be done\n",
        "* Need to change tokens to lower case\n",
        "* Need to get rid of punctuations\n",
        "\n",
        "All the preprocessing steps will be covered while creating the classifier"
      ]
    }
  ]
}